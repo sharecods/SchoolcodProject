{
 "cells": [
  {
   "cell_type": "code",
   "execution_count": null,
   "metadata": {},
   "outputs": [],
   "source": [
    "import numpy as np\n",
    "import copy\n",
    "import matplotlib.pyplot as plt\n",
    "import json\n",
    "import requests\n",
    "from keras.preprocessing import image\n",
    "from flask import Flask, request, jsonify\n",
    "from flask_restful import Resource, Api, reqparse\n",
    "from flask_cors import CORS, cross_origin\n",
    "import requests\n",
    "\n",
    "def grape (file) :\n",
    "    Img_internet = image.load_img(file, target_size=(255, 255))\n",
    "    img_serch3d = image.img_to_array(Img_internet)\n",
    "\n",
    "    img_serch2d = [[0 for col in range(255)] for row in range(255)]\n",
    "    img_serch1d = [0 for row in range(255)]\n",
    "    num1 = img_serch2d[0][0]\n",
    "    num = 0\n",
    "    \n",
    "    for k in range(255):\n",
    "        for j in range(255):\n",
    "            img_serch2d[k][j] = img_serch3d[k][j][0] + img_serch3d[k][j][1] + img_serch3d[k][j][2]\n",
    "\n",
    "    for k in range(255):\n",
    "        for j in range(255):\n",
    "            if(num1 > img_serch2d[k][j]):\n",
    "                num1 = img_serch2d[k][j]\n",
    "\n",
    "    for k in range(255):\n",
    "        for j in range(255):\n",
    "            img_serch2d[k][j] = img_serch2d[k][j] - num1\n",
    "\n",
    "    for k in range(255):\n",
    "        for j in range(255):\n",
    "            num += img_serch2d[j][k]\n",
    "        img_serch1d[k] = num\n",
    "        num = 0\n",
    "    print(img_serch1d)\n",
    "    return img_serch1d"
   ]
  },
  {
   "cell_type": "code",
   "execution_count": null,
   "metadata": {},
   "outputs": [],
   "source": [
    "app = Flask(__name__)\n",
    "\n",
    "CORS(app, resources={r'*': {'origins': 'http://localhost:8080'}})\n",
    "@app.route('/img', methods = ['POST'])\n",
    "def analysis_img():\n",
    "    nickname = request.get_json()\n",
    "    print('a')\n",
    "    data = {\"success\": False}\n",
    "    if request.method == 'POST':\n",
    "        print('POST')\n",
    "        print(nickname)\n",
    "        print(nickname['nick'])\n",
    "        name = nickname['nick']\n",
    "        gra=grape(name)\n",
    "        print(gra)\n",
    "        return jsonify(gra)\n",
    "    \n",
    "if __name__ == \"__main__\":\n",
    "    app.run()"
   ]
  }
 ],
 "metadata": {
  "kernelspec": {
   "display_name": "Python 3",
   "language": "python",
   "name": "python3"
  },
  "language_info": {
   "codemirror_mode": {
    "name": "ipython",
    "version": 3
   },
   "file_extension": ".py",
   "mimetype": "text/x-python",
   "name": "python",
   "nbconvert_exporter": "python",
   "pygments_lexer": "ipython3",
   "version": "3.8.5"
  }
 },
 "nbformat": 4,
 "nbformat_minor": 4
}
